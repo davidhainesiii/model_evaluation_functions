{
 "cells": [
  {
   "cell_type": "code",
   "execution_count": 2,
   "metadata": {},
   "outputs": [],
   "source": [
    "import numpy as np\n",
    "import pandas as pd"
   ]
  },
  {
   "cell_type": "markdown",
   "metadata": {},
   "source": [
    "Root Mean Squared Error\n",
    "\n",
    "Relative Squared Error\n",
    "\n",
    "Mean Absolute Error\n",
    "\n",
    "Relative Absolute Error\n",
    "\n",
    "Coefficient of Determination (R**2)\n"
   ]
  },
  {
   "cell_type": "code",
   "execution_count": 29,
   "metadata": {},
   "outputs": [],
   "source": [
    "#Root Mean Squared Error\n",
    "\n",
    "def rmse(p, a):\n",
    "    n = len(p)\n",
    "    squareslist = []\n",
    "    for i in range(0, len(a)):\n",
    "        squares = (p[i] - a[i])**2\n",
    "        squareslist.append(squares)\n",
    "    RMSE = np.sqrt((np.sum(squareslist))/n)\n",
    "    return print('RMSE =', RMSE)"
   ]
  },
  {
   "cell_type": "code",
   "execution_count": 26,
   "metadata": {},
   "outputs": [],
   "source": [
    "p = np.arange(1,12, 0.5)\n",
    "a = np.arange(4,15, 0.5)"
   ]
  },
  {
   "cell_type": "code",
   "execution_count": 27,
   "metadata": {},
   "outputs": [
    {
     "data": {
      "text/plain": [
       "22"
      ]
     },
     "execution_count": 27,
     "metadata": {},
     "output_type": "execute_result"
    }
   ],
   "source": [
    "len(p)"
   ]
  },
  {
   "cell_type": "code",
   "execution_count": 24,
   "metadata": {},
   "outputs": [
    {
     "data": {
      "text/plain": [
       "22"
      ]
     },
     "execution_count": 24,
     "metadata": {},
     "output_type": "execute_result"
    }
   ],
   "source": [
    "len(a)"
   ]
  },
  {
   "cell_type": "code",
   "execution_count": 30,
   "metadata": {},
   "outputs": [
    {
     "name": "stdout",
     "output_type": "stream",
     "text": [
      "RMSE = 3.0\n"
     ]
    }
   ],
   "source": [
    "rmse(p, a)"
   ]
  },
  {
   "cell_type": "code",
   "execution_count": 33,
   "metadata": {},
   "outputs": [],
   "source": [
    "#Relative Squared Error\n",
    "\n",
    "def rse(p, a):\n",
    "    errors = []\n",
    "    mean_errors = []\n",
    "    for i in range(0, len(a)):\n",
    "        p_error = (p[i] - a[i])**2\n",
    "        mean_error = (np.mean(a) - a[i])**2\n",
    "        errors.append(p_error)\n",
    "        mean_errors.append(mean_error)\n",
    "    RSE = np.sum(errors)/np.sum(mean_errors)\n",
    "    return print('RSE =', RSE)"
   ]
  },
  {
   "cell_type": "code",
   "execution_count": 34,
   "metadata": {},
   "outputs": [
    {
     "name": "stdout",
     "output_type": "stream",
     "text": [
      "RSE = 0.8944099378881988\n"
     ]
    }
   ],
   "source": [
    "rse(p, a)"
   ]
  },
  {
   "cell_type": "code",
   "execution_count": 36,
   "metadata": {},
   "outputs": [],
   "source": [
    "#Mean Absolute Error\n",
    "\n",
    "def mae(p, a):\n",
    "    n = len(a)\n",
    "    terms = []\n",
    "    for i in range(0, n):\n",
    "        sums = np.abs(p[0] - a[0])\n",
    "        terms.append(sums)\n",
    "    MAE = np.sum(terms)/n\n",
    "    return print('MAE =', MAE)"
   ]
  },
  {
   "cell_type": "code",
   "execution_count": 37,
   "metadata": {},
   "outputs": [
    {
     "name": "stdout",
     "output_type": "stream",
     "text": [
      "MAE = 3.0\n"
     ]
    }
   ],
   "source": [
    "mae(p, a)"
   ]
  },
  {
   "cell_type": "markdown",
   "metadata": {},
   "source": []
  }
 ],
 "metadata": {
  "kernelspec": {
   "display_name": "Python 3",
   "language": "python",
   "name": "python3"
  },
  "language_info": {
   "codemirror_mode": {
    "name": "ipython",
    "version": 3
   },
   "file_extension": ".py",
   "mimetype": "text/x-python",
   "name": "python",
   "nbconvert_exporter": "python",
   "pygments_lexer": "ipython3",
   "version": "3.7.0"
  }
 },
 "nbformat": 4,
 "nbformat_minor": 2
}
